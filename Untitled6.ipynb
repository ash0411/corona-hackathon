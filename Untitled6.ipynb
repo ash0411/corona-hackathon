{
  "nbformat": 4,
  "nbformat_minor": 0,
  "metadata": {
    "colab": {
      "name": "Untitled6.ipynb",
      "provenance": [],
      "collapsed_sections": [],
      "authorship_tag": "ABX9TyMVz6gSGFbqUgTxeo86l/oR",
      "include_colab_link": true
    },
    "kernelspec": {
      "name": "python3",
      "display_name": "Python 3"
    }
  },
  "cells": [
    {
      "cell_type": "markdown",
      "metadata": {
        "id": "view-in-github",
        "colab_type": "text"
      },
      "source": [
        "<a href=\"https://colab.research.google.com/github/ash0411/corona-hackathon/blob/master/Untitled6.ipynb\" target=\"_parent\"><img src=\"https://colab.research.google.com/assets/colab-badge.svg\" alt=\"Open In Colab\"/></a>"
      ]
    },
    {
      "cell_type": "code",
      "metadata": {
        "id": "X6Le4vSmts91",
        "colab_type": "code",
        "colab": {
          "base_uri": "https://localhost:8080/",
          "height": 190
        },
        "outputId": "85e368ea-94cf-41fd-8266-f98c423ed006"
      },
      "source": [
        "#! pip3 install zomathon"
      ],
      "execution_count": 1,
      "outputs": [
        {
          "output_type": "stream",
          "text": [
            "Collecting zomathon\n",
            "  Downloading https://files.pythonhosted.org/packages/c6/d1/abef6997f5cfc638e6a673093897974f2b7eda3c704a253e0b7a5de96abf/zomathon-1.4.tar.gz\n",
            "Building wheels for collected packages: zomathon\n",
            "  Building wheel for zomathon (setup.py) ... \u001b[?25l\u001b[?25hdone\n",
            "  Created wheel for zomathon: filename=zomathon-1.4-cp36-none-any.whl size=4004 sha256=58941fe6a9a9c4d1f9fbc338eb8207c3dbc53909646334cab481cbf10771263d\n",
            "  Stored in directory: /root/.cache/pip/wheels/9f/e6/99/fcf780087e587cbe330fad7e2972f8ec1adc88b0ab4e60d1b0\n",
            "Successfully built zomathon\n",
            "Installing collected packages: zomathon\n",
            "Successfully installed zomathon-1.4\n"
          ],
          "name": "stdout"
        }
      ]
    },
    {
      "cell_type": "code",
      "metadata": {
        "id": "igarmjOt6GFr",
        "colab_type": "code",
        "colab": {}
      },
      "source": [
        "import os \n",
        "import sys\n",
        "import json\n",
        "from zomathon import ZomatoAPI"
      ],
      "execution_count": 0,
      "outputs": []
    },
    {
      "cell_type": "code",
      "metadata": {
        "id": "eotTipO46e73",
        "colab_type": "code",
        "colab": {}
      },
      "source": [
        "zom = ZomatoAPI()# here is an api key"
      ],
      "execution_count": 0,
      "outputs": []
    },
    {
      "cell_type": "code",
      "metadata": {
        "id": "dSjNeOCi65HZ",
        "colab_type": "code",
        "colab": {}
      },
      "source": [
        "import requests"
      ],
      "execution_count": 0,
      "outputs": []
    },
    {
      "cell_type": "code",
      "metadata": {
        "id": "8CJfScqr6xwp",
        "colab_type": "code",
        "colab": {
          "base_uri": "https://localhost:8080/",
          "height": 1000
        },
        "outputId": "2febb3ba-e4b1-4099-da87-3f2deb0e4f25"
      },
      "source": [
        "        # Find the nearby restaurant and getting 2 reviews from each restaurants\n",
        "        print('Finding Nearby Restaurant\\n')\n",
        "        while True:\n",
        "            print('Input your location using latitude and longitude :\\n')\n",
        "            latitude = input('latitude : ')\n",
        "            longitude = input('longitude : ')\n",
        "\n",
        "            coordinate = \"{lat} {lon}\".format(lat=latitude, lon=longitude)\n",
        "            nearby = zom.geocode(coordinate=coordinate)\n",
        "\n",
        "            try :\n",
        "                for num, restaurant in enumerate(nearby['nearby_restaurants']):\n",
        "                    id1 = restaurant['restaurant']['id']\n",
        "                    print('{number} {id1}, {name} - {addr}'.format(\n",
        "                        number= num+1,\n",
        "                        id1 = id1,\n",
        "                        name=restaurant['restaurant']['name'],\n",
        "                        addr=restaurant['restaurant']['location']['address']\n",
        "                        ))\n",
        "                    review = zom.reviews(res_id = id1,count = 2)\n",
        "                    try :\n",
        "                        for num, comment in enumerate(review['user_reviews']):\n",
        "                          username = comment['review']['user']['name']\n",
        "                          rating = comment['review']['rating']\n",
        "                          comment_text = comment['review']['review_text']\n",
        "                          print('{name} - {rating}\\nCommented : {text}'.format(name=username,rating=rating,text=comment_text))\n",
        "                    except :\n",
        "                        print('Something went wrong when fetching the comment section...') \n",
        "            except :\n",
        "                print('Something went wrong when fetching nearby restaurant...')\n",
        "\n",
        "            print('\\nTry Again?')\n",
        "            confirmation = input('Yes/No :').lower()\n",
        "\n",
        "            if 'y' in confirmation:\n",
        "                continue\n",
        "            else :\n",
        "                break "
      ],
      "execution_count": 15,
      "outputs": [
        {
          "output_type": "stream",
          "text": [
            "Finding Nearby Restaurant\n",
            "\n",
            "Input your location using latitude and longitude :\n",
            "\n",
            "latitude : 29.218264\n",
            "longitude : 79.512978\n",
            "1 18842136, Rinku's Bawarchi - Arjun Complex, Kaladhungi Road, Near Mukhani, Haldwani Locality, Haldwani\n",
            "PRINCE TIWARI - 1\n",
            "Commented : \n",
            "Meenakshi Rakholiya - 5\n",
            "Commented : \n",
            "Naini Joshi - 1\n",
            "Commented : Once bawarchi serve me non veg momos instead of veg momos when I ate momos I fell different taste very disgusting👎👎 Ya I know when you become overrated these things happens but you have to be stict about cases like this as this type of cases is decreasing your goodwill\n",
            "M A - 3\n",
            "Commented : I ordered veg dry thukpa but there was not single vegetable in it, even onion also. maybe the cookie made a mistake. Got plain boiled noodles with some spice.\n",
            "Anjali Pathak - 5\n",
            "Commented : \n",
            "2 18953693, Bikanervala - Kmvn, Shopping Complex, Saras Market, Haldwani Locality, Haldwani\n",
            "Richa Dhawan - 4\n",
            "Commented : Would give 5 Stars for the packing of food. Perfectly packed , not even single drop of food leaked out of the boxes.  4 stars for the Food I ordered. Sambhar tasted very average. Although masala dosa was pretty crispy and stuffing tasted good.  Overall an average place to order food from.. Can do better with South Indian.\n",
            "Amit Kumar - 1\n",
            "Commented : Ordered onion uttapam through Zomato and you cannot believe it was the worst uttapam I have ever tasted. Same felt for dosa few months ago. Bikanerwala is poor in South Indian food...\n",
            "Latika Joshi - 1\n",
            "Commented : \n",
            "Paramjeet Singh - 5\n",
            "Commented : \n",
            "Ruchira Pawale - 1\n",
            "Commented : The food is not even average. Not at all recommended.\n",
            "3 18840291, Magic Restaurant - Gasgoamdam, Kusumkhera, Near Centeral Hospital, Haldwani Locality, Haldwani\n",
            "Amit Kumar - 5\n",
            "Commented : \n",
            "Sangeeta Chauhan - 1\n",
            "Commented : \n",
            "Shalinee Negi Rana - 1\n",
            "Commented : chicken biryaninis not fried rice u multi talent chef\n",
            "Soni Rawat - 2\n",
            "Commented : I ordered paneer butter masala and butter naan as the panner butter masala tasted good but naan were cooked half...\n",
            "Preeti - 4\n",
            "Commented : \n",
            "4 18837818, Noodles House - Arjun Complex, Basement Shop Number 20, 21, Kaladhungi Road, Haldwani - 263139, NEAR BAL VIDHYA MANDIR SCHOOL, Haldwani Locality, Haldwani\n",
            "Vikky Rastogi - 5\n",
            "Commented : \n",
            "Chetna Rajpal - 5\n",
            "Commented : \n",
            "Param Singh - 5\n",
            "Commented : \n",
            "Faizan Ansari - 5\n",
            "Commented : \n",
            "M A - 2\n",
            "Commented : Base burned & raw vegetable. I specially requested to Restro owner but received burned pizza. They used readymade base. Not like this.\n",
            "5 18992409, The Pizza Bite - Gas Godam Road, Kusum Kheda Chaurah, Haldwani Locality, Haldwani\n",
            "Khushi Arya - 1\n",
            "Commented : \n",
            "Naini Joshi - 5\n",
            "Commented : One of the best pizza places in Haldwani ,serve piping hot pizzas with huge variety of beverages and side snacks ❤️❤️❤️\n",
            "Vinod Kumar - 5\n",
            "Commented : \n",
            "Lavanya Pandey - 1\n",
            "Commented : This is the condition of pizza I ordered shameless......... Nd the taste was tooo weird I won't order anything now!!\n",
            "Jai Singh Bana - 4\n",
            "Commented : \n",
            "6 18902642, Swadisht Food Point - Near Vivekanand Hospital, Mukhani, Haldwani Locality, Haldwani\n",
            "Laxita Yadav - 1\n",
            "Commented : Ordered from here.... pathetic food....I literally swallowed up egg rice and Noodle....tasteless....had dust in mouth 4-5 times nd at last ate half food\n",
            "Shivi Pahwa - 1\n",
            "Commented : \n",
            "Rain Bow - 5\n",
            "Commented : \n",
            "Bhoomi Negi - 5\n",
            "Commented : \n",
            "Pankaj Suyal - 5\n",
            "Commented : \n",
            "7 18964183, New Shere Punjab Corner - Roadways Wale - Opposite, RK Tent House Road, Bank Colony, Kusumkhera, Haldwani Locality, Haldwani\n",
            "INDIAN'S SINGH'S - 5\n",
            "Commented : \n",
            "Ramhas Singh - 5\n",
            "Commented : \n",
            "Guransh Kohli - 1\n",
            "Commented : \n",
            "Riders Of Punjab - 1\n",
            "Commented : Very good food ................................\n",
            "Kaushal Bhatt - 5\n",
            "Commented : Having good taste yummieee 🤟🏻having good service and delicious food .... tandoori chicken and butter chicken i like the most 🤗🤗 What a taste\n",
            "8 19317883, Pure Preparations - Gas Godam choraha shiv mandir, near mukhani chauraha, kaladhungi, , Haldwani Locality, Haldwani\n",
            "Nikita Arya - 5\n",
            "Commented : \n",
            "Alishu Chhabra - 5\n",
            "Commented : \n",
            "Shaista Siddiqui - 5\n",
            "Commented : Tasty food\n",
            "Drutika Singh - 5\n",
            "Commented : Nice food\n",
            "Ayush Beri - 5\n",
            "Commented : \n",
            "9 18842377, Mehra Fast Food - Gas Godam Road, Kusumkher, Haldwani Locality, Haldwani\n",
            "ShiVam Sirohi - 3\n",
            "Commented : \n",
            "Karunesh Joshi - 1\n",
            "Commented : You should only order from here if you would like to have a pathetic dinner with wrong cooking instructions. They miss almost all the points given telephonically and over the cooking instructions platform given by Zomato. They don't hear you at all! Zomato won't help either if you have already placed the order!\n",
            "Kanchan Mehra - 1\n",
            "Commented : \n",
            "Karuna Kathayat - 1\n",
            "Commented : \n",
            "Aparna Pant - 1\n",
            "Commented : Very bad taste ,stale and smelly oil\n",
            "\n",
            "Try Again?\n",
            "Yes/No :No\n"
          ],
          "name": "stdout"
        }
      ]
    },
    {
      "cell_type": "code",
      "metadata": {
        "id": "mx00qzij94GC",
        "colab_type": "code",
        "colab": {}
      },
      "source": [
        "29.218264\n",
        "79.512978"
      ],
      "execution_count": 0,
      "outputs": []
    },
    {
      "cell_type": "code",
      "metadata": {
        "id": "MWld8WtuEhCt",
        "colab_type": "code",
        "colab": {
          "base_uri": "https://localhost:8080/",
          "height": 309
        },
        "outputId": "db9c85ba-d038-4696-d6bc-3c6acf481efd"
      },
      "source": [
        " "
      ],
      "execution_count": 14,
      "outputs": [
        {
          "output_type": "stream",
          "text": [
            "Reading Peoples Reviews on Restaurants\n",
            "Example ID : 16782899\n",
            "Enter Restaurant ID : 18842136\n",
            "PRINCE TIWARI - \n",
            "Commented : \n",
            "Meenakshi Rakholiya - \n",
            "Commented : \n",
            "Naini Joshi - \n",
            "Commented : Once bawarchi serve me non veg momos instead of veg momos when I ate momos I fell different taste very disgusting👎👎 Ya I know when you become overrated these things happens but you have to be stict about cases like this as this type of cases is decreasing your goodwill\n",
            "M A - \n",
            "Commented : I ordered veg dry thukpa but there was not single vegetable in it, even onion also. maybe the cookie made a mistake. Got plain boiled noodles with some spice.\n",
            "Anjali Pathak - \n",
            "Commented : \n",
            "\n",
            "Try Again?\n",
            "Yes/No :No\n"
          ],
          "name": "stdout"
        }
      ]
    },
    {
      "cell_type": "code",
      "metadata": {
        "id": "nFbz8ScYEhqT",
        "colab_type": "code",
        "colab": {}
      },
      "source": [
        ""
      ],
      "execution_count": 0,
      "outputs": []
    }
  ]
}